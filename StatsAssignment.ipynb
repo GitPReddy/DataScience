{
 "cells": [
  {
   "cell_type": "markdown",
   "metadata": {},
   "source": [
    "## Statistics Assignments"
   ]
  },
  {
   "cell_type": "markdown",
   "metadata": {},
   "source": [
    "### 1. To Find Mean, Median and Mode from the data"
   ]
  },
  {
   "cell_type": "code",
   "execution_count": 3,
   "metadata": {
    "collapsed": true
   },
   "outputs": [],
   "source": [
    "def findMean(listMean):\n",
    "    cntVar = len(listMean)\n",
    "    sumOfMeanVar = 0\n",
    "    for var in listMean:\n",
    "        sumOfMeanVar+=var\n",
    "    return sumOfMeanVar/cntVar\n",
    "\n",
    "def findMedian(listMedian):\n",
    "    listMedian = sorted(listMedian)\n",
    "    print(\"Sorted List: %s \" %listMedian)\n",
    "    cntVar = len(listMedian)%2\n",
    "    middleVar = len(listMedian)/2\n",
    "    if(cntVar == 0):\n",
    "        median = (listMedian[int(middleVar)] + listMedian[int(middleVar-1)])/2\n",
    "    else:\n",
    "        median = listMedian[int(middleVar)]\n",
    "    return median\n",
    "\n",
    "def findMode(listMode):\n",
    "    counts = {}\n",
    "    for var in listMode:\n",
    "        if var not in counts:\n",
    "            counts[var] = 0\n",
    "        counts[var]+=1\n",
    "\n",
    "    keys =  counts.keys()\n",
    "    values = counts.values()\n",
    "    maxValue = max(values)\n",
    "    if(maxValue == 1):\n",
    "        print(\"No mode\")\n",
    "    else:\n",
    "        for k,v in counts.items():\n",
    "            if(v == maxValue):\n",
    "                print(k)    "
   ]
  },
  {
   "cell_type": "code",
   "execution_count": 31,
   "metadata": {},
   "outputs": [
    {
     "name": "stdout",
     "output_type": "stream",
     "text": [
      "Enter how many data varaibles do you want: 15\n",
      "Enter your list of data varaibles\n",
      "8\n",
      "9\n",
      "5\n",
      "8\n",
      "5\n",
      "41\n",
      "5\n",
      "2\n",
      "3\n",
      "7\n",
      "1\n",
      "5\n",
      "1\n",
      "5\n",
      "6\n",
      "You've Entered your list of data varaibles are:\n",
      "[8, 9, 5, 8, 5, 41, 5, 2, 3, 7, 1, 5, 1, 5, 6]\n",
      "Mean: 7.4\n",
      "Sorted List: [1, 1, 2, 3, 5, 5, 5, 5, 5, 6, 7, 8, 8, 9, 41] \n",
      "Median: 5\n",
      "Mode\n",
      "5\n"
     ]
    }
   ],
   "source": [
    "noOfMeanVar = input(\"Enter how many data varaibles do you want: \")\n",
    "print(\"Enter your list of data varaibles\")\n",
    "cntVar = 0\n",
    "dataVar = []\n",
    "while(cntVar<int(noOfMeanVar)):\n",
    "    dataVar.append(int(input()))\n",
    "    cntVar+=1\n",
    "print(\"You've Entered your list of data varaibles are:\")    \n",
    "print(dataVar)\n",
    "\n",
    "mean = findMean(dataVar)\n",
    "print(\"Mean: %s\" %mean)\n",
    "\n",
    "median = findMedian(dataVar)\n",
    "print(\"Median: %s\" %median)\n",
    "\n",
    "print(\"Mode\")\n",
    "findMode(dataVar)\n",
    "\n"
   ]
  },
  {
   "cell_type": "markdown",
   "metadata": {},
   "source": [
    "## Dot Plot the Mode of the Dataset  "
   ]
  },
  {
   "cell_type": "code",
   "execution_count": 32,
   "metadata": {},
   "outputs": [
    {
     "data": {
      "image/png": "[encoded data removed]",
      "text/plain": [
       "<matplotlib.figure.Figure at 0x1d1513d25f8>"
      ]
     },
     "metadata": {},
     "output_type": "display_data"
    }
   ],
   "source": [
    "import numpy as np; np.random.seed(13)\n",
    "import matplotlib.pyplot as plt\n",
    "\n",
    "#print(dataVar)\n",
    "cnt = len(dataVar)\n",
    "#print(cnt)\n",
    "data = dataVar\n",
    "bins = np.arange(max(dataVar)+1)+0.5\n",
    "#print(bins)\n",
    "hist, edges = np.histogram(data, bins=bins)\n",
    "#print(hist,edges)\n",
    "y = np.arange(1,hist.max()+1)\n",
    "#print(y)\n",
    "x = np.arange(1,max(dataVar)+1)\n",
    "#print(x)\n",
    "X,Y = np.meshgrid(x,y)\n",
    "#print(X)\n",
    "#print(Y)\n",
    "#plt.scatter(X,Y, c=Y<=hist, cmap=\"Greys\")\n",
    "\n",
    "Y = Y.astype(np.float)\n",
    "#print(Y>hist)\n",
    "Y[Y>hist] = np.nan\n",
    "\n",
    "\n",
    "#print(Y)\n",
    "plt.scatter(X,Y,color='g')\n",
    "#plt.plot(X,Y,'k')\n",
    "\n",
    "\n",
    "plt.show()"
   ]
  },
  {
   "cell_type": "code",
   "execution_count": 10,
   "metadata": {},
   "outputs": [
    {
     "name": "stdout",
     "output_type": "stream",
     "text": [
      "[ -0.5   0.5   1.5   2.5   3.5   4.5   5.5   6.5   7.5   8.5   9.5  10.5\n",
      "  11.5]\n"
     ]
    },
    {
     "data": {
      "image/png": "[encoded data removed]",
      "text/plain": [
       "<matplotlib.figure.Figure at 0x1d14fc0e550>"
      ]
     },
     "metadata": {},
     "output_type": "display_data"
    }
   ],
   "source": [
    "import numpy as np; np.random.seed(13)\n",
    "import matplotlib.pyplot as plt\n",
    "\n",
    "data = np.random.randint(0,12,size=72)\n",
    "\n",
    "\n",
    "bins = np.arange(13)-0.5\n",
    "print(bins)\n",
    "hist, edges = np.histogram(data, bins=bins)\n",
    "\n",
    "y = np.arange(1,hist.max()+1)\n",
    "x = np.arange(12)\n",
    "X,Y = np.meshgrid(x,y)\n",
    "\n",
    "plt.scatter(X,Y, c=Y<=hist, cmap=\"Greys\")\n",
    "\n",
    "Y = Y.astype(np.float)\n",
    "Y[Y>hist] = np.nan\n",
    "\n",
    "plt.scatter(X,Y)\n",
    "plt.show()"
   ]
  },
  {
   "cell_type": "code",
   "execution_count": 26,
   "metadata": {},
   "outputs": [
    {
     "data": {
      "image/png": "[encoded data removed]",
      "text/plain": [
       "<matplotlib.figure.Figure at 0x1484449dd68>"
      ]
     },
     "metadata": {},
     "output_type": "display_data"
    }
   ],
   "source": [
    "import numpy as np; np.random.seed(13)\n",
    "import matplotlib.pyplot as plt\n",
    "\n",
    "data = np.random.randint(0,12,size=72)\n",
    "\n",
    "plt.hist(data, bins=np.arange(13)-0.5, ec=\"r\")\n",
    "\n",
    "plt.show()"
   ]
  },
  {
   "cell_type": "code",
   "execution_count": 101,
   "metadata": {},
   "outputs": [
    {
     "name": "stdout",
     "output_type": "stream",
     "text": [
      "<_io.TextIOWrapper name='C:/Users/dell/Desktop/Reddy/HelloWorld.ipynb' mode='r' encoding='cp1252'>\n"
     ]
    }
   ],
   "source": [
    "localpath = \"C:/Users/dell/Desktop/Reddy/\"\n",
    "filePath = localpath + \"HelloWorld.ipynb\"\n",
    "line = open(filePath, 'r')\n",
    "print(line)\n",
    "%run $path"
   ]
  },
  {
   "cell_type": "code",
   "execution_count": null,
   "metadata": {
    "collapsed": true
   },
   "outputs": [],
   "source": []
  }
 ],
 "metadata": {
  "kernelspec": {
   "display_name": "Python 3",
   "language": "python",
   "name": "python3"
  },
  "language_info": {
   "codemirror_mode": {
    "name": "ipython",
    "version": 3
   },
   "file_extension": ".py",
   "mimetype": "text/x-python",
   "name": "python",
   "nbconvert_exporter": "python",
   "pygments_lexer": "ipython3",
   "version": "3.6.3"
  }
 },
 "nbformat": 4,
 "nbformat_minor": 2
}
