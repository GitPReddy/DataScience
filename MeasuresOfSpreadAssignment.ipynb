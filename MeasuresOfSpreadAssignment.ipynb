{
 "cells": [
  {
   "cell_type": "markdown",
   "metadata": {},
   "source": [
    "# Measures Of Spread Assignment"
   ]
  },
  {
   "cell_type": "code",
   "execution_count": 1,
   "metadata": {},
   "outputs": [
    {
     "name": "stdout",
     "output_type": "stream",
     "text": [
      "Enter how many data varaibles do you want: 9\n",
      "Enter your list of data varaibles\n",
      "2\n",
      "3\n",
      "4\n",
      "5\n",
      "6\n",
      "7\n",
      "8\n",
      "9\n",
      "45\n",
      "You've Entered your list of data varaibles are:\n",
      "[2, 3, 4, 5, 6, 7, 8, 9, 45]\n"
     ]
    }
   ],
   "source": [
    "noOfMeanVar = input(\"Enter how many data varaibles do you want: \")\n",
    "print(\"Enter your list of data varaibles\")\n",
    "cntVar = 0\n",
    "dataVar = []\n",
    "while(cntVar<int(noOfMeanVar)):\n",
    "\n",
    "    dataVar.append(int(input()))\n",
    "    cntVar+=1\n",
    "print(\"You've Entered your list of data varaibles are:\")    \n",
    "print(dataVar)"
   ]
  },
  {
   "cell_type": "markdown",
   "metadata": {},
   "source": [
    "## 1.Range"
   ]
  },
  {
   "cell_type": "code",
   "execution_count": 2,
   "metadata": {},
   "outputs": [
    {
     "data": {
      "text/plain": [
       "43"
      ]
     },
     "execution_count": 2,
     "metadata": {},
     "output_type": "execute_result"
    }
   ],
   "source": [
    "def findRange(dataVarList):\n",
    "    maxVal = max(dataVarList)\n",
    "    minVal = min(dataVarList)\n",
    "    rangeVal = maxVal - minVal\n",
    "    return rangeVal\n",
    "\n",
    "findRange = findRange(dataVar)\n",
    "findRange"
   ]
  },
  {
   "cell_type": "markdown",
   "metadata": {},
   "source": [
    "## 2. Interquartile Range"
   ]
  },
  {
   "cell_type": "code",
   "execution_count": 5,
   "metadata": {},
   "outputs": [
    {
     "data": {
      "text/plain": [
       "[2, 3, 4, 5, 6, 7, 8, 9, 45]"
      ]
     },
     "execution_count": 5,
     "metadata": {},
     "output_type": "execute_result"
    }
   ],
   "source": [
    "dataVar"
   ]
  },
  {
   "cell_type": "code",
   "execution_count": 2,
   "metadata": {},
   "outputs": [
    {
     "name": "stdout",
     "output_type": "stream",
     "text": [
      "Sorted List: [62, 63, 64, 64, 70, 72, 76, 77, 81, 81, 83] \n",
      "Median: 72\n"
     ]
    }
   ],
   "source": [
    "def findMedian(listMedian):\n",
    "    listMedian = sorted(listMedian)\n",
    "    print(\"Sorted List: %s \" %listMedian)\n",
    "    cntVar = len(listMedian)%2\n",
    "    middleVar = len(listMedian)/2\n",
    "    if(cntVar == 0):\n",
    "        median = (listMedian[int(middleVar)] + listMedian[int(middleVar-1)])/2\n",
    "    else:\n",
    "        median = listMedian[int(middleVar)]\n",
    "    return median\n",
    "\n",
    "median = findMedian(dataVar)\n",
    "print(\"Median: %s\" %median)"
   ]
  },
  {
   "cell_type": "code",
   "execution_count": 19,
   "metadata": {
    "scrolled": false
   },
   "outputs": [
    {
     "name": "stdout",
     "output_type": "stream",
     "text": [
      "Sorted List: [1, 2, 3, 4, 5, 6, 7, 8, 9, 10, 11, 12, 13, 14, 15, 16, 17] \n",
      "Sorted List: [1, 2, 3, 4, 5, 6, 7, 8] \n",
      "Sorted List: [10, 11, 12, 13, 14, 15, 16, 17] \n",
      "Q2: 9\n",
      "Q1 List : [1, 2, 3, 4, 5, 6, 7, 8]\n",
      "Q1: 4.5\n",
      "Q3 List : [10, 11, 12, 13, 14, 15, 16, 17]\n",
      "Q3: 13.5\n",
      "IQR: 9.0\n"
     ]
    }
   ],
   "source": [
    "def findIQR(dataSet):\n",
    "    dataSet = sorted(dataSet)\n",
    "    Q2 = findMedian(dataSet)\n",
    "    cntVar = len(dataSet)%2\n",
    "    middleVar = len(dataSet)/2\n",
    "    Q1_List = []\n",
    "    Q3_List = []\n",
    "    if(cntVar == 0):\n",
    "        Q1_List = dataSet[:int(middleVar)]\n",
    "        Q3_List = dataSet[int(middleVar):]\n",
    "        \n",
    "    else:\n",
    "        Q1_List = dataSet[:int(middleVar)]\n",
    "        Q3_List = dataSet[int(middleVar)+1:]\n",
    "    \n",
    "    \n",
    "    Q1 = findMedian(Q1_List)\n",
    "    Q3 = findMedian(Q3_List)\n",
    "    IQR = Q3-Q1\n",
    "                \n",
    "    return Q2, Q1_List, Q1, Q3_List, Q3, IQR  \n",
    "\n",
    "dataVar = [1,2,3,4,5,6,7,8,9,10,11,12,13,14,15,16,17]\n",
    "\n",
    "Q2, Q1_List, Q1, Q3_List, Q3, IQR = findIQR(dataVar)   \n",
    "print(\"Q2: %s\" %Q2)\n",
    "print(\"Q1 List : %s\" %Q1_List)\n",
    "print(\"Q1: %s\" %Q1)\n",
    "print(\"Q3 List : %s\" %Q3_List)\n",
    "print(\"Q3: %s\" %Q3)\n",
    "print(\"IQR: %s\" %IQR)\n",
    "\n",
    "#Q2, Q1_List, Q1, Q3_List, Q3, IQR\n"
   ]
  },
  {
   "cell_type": "markdown",
   "metadata": {
    "collapsed": true
   },
   "source": [
    "## 3. Variance\n"
   ]
  },
  {
   "cell_type": "code",
   "execution_count": 43,
   "metadata": {
    "collapsed": true
   },
   "outputs": [],
   "source": [
    "def findMean(listMean):\n",
    "    cntVar = len(listMean)\n",
    "    sumOfMeanVar = 0\n",
    "    for var in listMean:\n",
    "        sumOfMeanVar+=var\n",
    "    return sumOfMeanVar/cntVar\n",
    "\n",
    "def findVariance(dataSet):\n",
    "    sumOfObs = 0\n",
    "    #Calculate the mean\n",
    "    mean = findMean(dataSet)\n",
    "    print(\"Mean: %s\"%mean)\n",
    "    #Subtract the mean from each observation.\n",
    "    for item in dataSet:\n",
    "        obs = item-mean\n",
    "        #Square each of the resulting observations.\n",
    "        obs = obs * obs\n",
    "        #Add these squared results together.    \n",
    "        sumOfObs += obs\n",
    "    #Divide this total by the number of observations (variance, S2).\n",
    "    variance = sumOfObs/len(dataSet)\n",
    "    return variance"
   ]
  },
  {
   "cell_type": "code",
   "execution_count": 44,
   "metadata": {},
   "outputs": [
    {
     "name": "stdout",
     "output_type": "stream",
     "text": [
      "Mean: 10.0\n"
     ]
    },
    {
     "data": {
      "text/plain": [
       "2.0"
      ]
     },
     "execution_count": 44,
     "metadata": {},
     "output_type": "execute_result"
    }
   ],
   "source": [
    "dataVar = [8,9,10,11,12]\n",
    "findVariance(dataVar)"
   ]
  },
  {
   "cell_type": "markdown",
   "metadata": {},
   "source": [
    "## 4. Standard Deviation"
   ]
  },
  {
   "cell_type": "code",
   "execution_count": 54,
   "metadata": {
    "collapsed": true
   },
   "outputs": [],
   "source": [
    "def stdDeviation(dataSet):\n",
    "    #Calculate Variance\n",
    "    variance = findVariance(dataSet)\n",
    "    print(\"Variance: %s\"%variance)\n",
    "    #square root of Variance\n",
    "    std = np.sqrt(variance)\n",
    "    return std"
   ]
  },
  {
   "cell_type": "code",
   "execution_count": 55,
   "metadata": {},
   "outputs": [
    {
     "name": "stdout",
     "output_type": "stream",
     "text": [
      "Mean: 4.0\n",
      "Variance: 5.2\n"
     ]
    },
    {
     "data": {
      "text/plain": [
       "2.2803508501982761"
      ]
     },
     "execution_count": 55,
     "metadata": {},
     "output_type": "execute_result"
    }
   ],
   "source": [
    "dataVar = [1,4,7,2,6]\n",
    "stdDeviation(dataVar)"
   ]
  },
  {
   "cell_type": "code",
   "execution_count": null,
   "metadata": {
    "collapsed": true
   },
   "outputs": [],
   "source": []
  }
 ],
 "metadata": {
  "kernelspec": {
   "display_name": "Python 3",
   "language": "python",
   "name": "python3"
  },
  "language_info": {
   "codemirror_mode": {
    "name": "ipython",
    "version": 3
   },
   "file_extension": ".py",
   "mimetype": "text/x-python",
   "name": "python",
   "nbconvert_exporter": "python",
   "pygments_lexer": "ipython3",
   "version": "3.6.3"
  }
 },
 "nbformat": 4,
 "nbformat_minor": 2
}
